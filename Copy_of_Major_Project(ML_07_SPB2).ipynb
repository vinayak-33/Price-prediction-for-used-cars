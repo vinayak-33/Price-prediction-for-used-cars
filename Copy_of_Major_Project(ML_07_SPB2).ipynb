{
  "nbformat": 4,
  "nbformat_minor": 0,
  "metadata": {
    "colab": {
      "provenance": []
    },
    "kernelspec": {
      "name": "python3",
      "display_name": "Python 3"
    },
    "language_info": {
      "name": "python"
    }
  },
  "cells": [
    {
      "cell_type": "markdown",
      "source": [
        "#Step 1->Creating Dataframe"
      ],
      "metadata": {
        "id": "qrF68AwLfNKD"
      }
    },
    {
      "cell_type": "code",
      "execution_count": null,
      "metadata": {
        "colab": {
          "base_uri": "https://localhost:8080/",
          "height": 424
        },
        "id": "DTvvpqTKdmbU",
        "outputId": "87a813b8-841e-42d0-e7f2-6802851fbb1c"
      },
      "outputs": [
        {
          "output_type": "execute_result",
          "data": {
            "text/plain": [
              "                                     name  year  selling_price  km_driven  \\\n",
              "0                           Maruti 800 AC  2007          60000      70000   \n",
              "1                Maruti Wagon R LXI Minor  2007         135000      50000   \n",
              "2                    Hyundai Verna 1.6 SX  2012         600000     100000   \n",
              "3                  Datsun RediGO T Option  2017         250000      46000   \n",
              "4                   Honda Amaze VX i-DTEC  2014         450000     141000   \n",
              "...                                   ...   ...            ...        ...   \n",
              "4335  Hyundai i20 Magna 1.4 CRDi (Diesel)  2014         409999      80000   \n",
              "4336           Hyundai i20 Magna 1.4 CRDi  2014         409999      80000   \n",
              "4337                  Maruti 800 AC BSIII  2009         110000      83000   \n",
              "4338     Hyundai Creta 1.6 CRDi SX Option  2016         865000      90000   \n",
              "4339                     Renault KWID RXT  2016         225000      40000   \n",
              "\n",
              "        fuel seller_type transmission         owner  \n",
              "0     Petrol  Individual       Manual   First Owner  \n",
              "1     Petrol  Individual       Manual   First Owner  \n",
              "2     Diesel  Individual       Manual   First Owner  \n",
              "3     Petrol  Individual       Manual   First Owner  \n",
              "4     Diesel  Individual       Manual  Second Owner  \n",
              "...      ...         ...          ...           ...  \n",
              "4335  Diesel  Individual       Manual  Second Owner  \n",
              "4336  Diesel  Individual       Manual  Second Owner  \n",
              "4337  Petrol  Individual       Manual  Second Owner  \n",
              "4338  Diesel  Individual       Manual   First Owner  \n",
              "4339  Petrol  Individual       Manual   First Owner  \n",
              "\n",
              "[4340 rows x 8 columns]"
            ],
            "text/html": [
              "\n",
              "  <div id=\"df-2c0b13a3-4817-4fff-b1ea-b0972e2f47fc\">\n",
              "    <div class=\"colab-df-container\">\n",
              "      <div>\n",
              "<style scoped>\n",
              "    .dataframe tbody tr th:only-of-type {\n",
              "        vertical-align: middle;\n",
              "    }\n",
              "\n",
              "    .dataframe tbody tr th {\n",
              "        vertical-align: top;\n",
              "    }\n",
              "\n",
              "    .dataframe thead th {\n",
              "        text-align: right;\n",
              "    }\n",
              "</style>\n",
              "<table border=\"1\" class=\"dataframe\">\n",
              "  <thead>\n",
              "    <tr style=\"text-align: right;\">\n",
              "      <th></th>\n",
              "      <th>name</th>\n",
              "      <th>year</th>\n",
              "      <th>selling_price</th>\n",
              "      <th>km_driven</th>\n",
              "      <th>fuel</th>\n",
              "      <th>seller_type</th>\n",
              "      <th>transmission</th>\n",
              "      <th>owner</th>\n",
              "    </tr>\n",
              "  </thead>\n",
              "  <tbody>\n",
              "    <tr>\n",
              "      <th>0</th>\n",
              "      <td>Maruti 800 AC</td>\n",
              "      <td>2007</td>\n",
              "      <td>60000</td>\n",
              "      <td>70000</td>\n",
              "      <td>Petrol</td>\n",
              "      <td>Individual</td>\n",
              "      <td>Manual</td>\n",
              "      <td>First Owner</td>\n",
              "    </tr>\n",
              "    <tr>\n",
              "      <th>1</th>\n",
              "      <td>Maruti Wagon R LXI Minor</td>\n",
              "      <td>2007</td>\n",
              "      <td>135000</td>\n",
              "      <td>50000</td>\n",
              "      <td>Petrol</td>\n",
              "      <td>Individual</td>\n",
              "      <td>Manual</td>\n",
              "      <td>First Owner</td>\n",
              "    </tr>\n",
              "    <tr>\n",
              "      <th>2</th>\n",
              "      <td>Hyundai Verna 1.6 SX</td>\n",
              "      <td>2012</td>\n",
              "      <td>600000</td>\n",
              "      <td>100000</td>\n",
              "      <td>Diesel</td>\n",
              "      <td>Individual</td>\n",
              "      <td>Manual</td>\n",
              "      <td>First Owner</td>\n",
              "    </tr>\n",
              "    <tr>\n",
              "      <th>3</th>\n",
              "      <td>Datsun RediGO T Option</td>\n",
              "      <td>2017</td>\n",
              "      <td>250000</td>\n",
              "      <td>46000</td>\n",
              "      <td>Petrol</td>\n",
              "      <td>Individual</td>\n",
              "      <td>Manual</td>\n",
              "      <td>First Owner</td>\n",
              "    </tr>\n",
              "    <tr>\n",
              "      <th>4</th>\n",
              "      <td>Honda Amaze VX i-DTEC</td>\n",
              "      <td>2014</td>\n",
              "      <td>450000</td>\n",
              "      <td>141000</td>\n",
              "      <td>Diesel</td>\n",
              "      <td>Individual</td>\n",
              "      <td>Manual</td>\n",
              "      <td>Second Owner</td>\n",
              "    </tr>\n",
              "    <tr>\n",
              "      <th>...</th>\n",
              "      <td>...</td>\n",
              "      <td>...</td>\n",
              "      <td>...</td>\n",
              "      <td>...</td>\n",
              "      <td>...</td>\n",
              "      <td>...</td>\n",
              "      <td>...</td>\n",
              "      <td>...</td>\n",
              "    </tr>\n",
              "    <tr>\n",
              "      <th>4335</th>\n",
              "      <td>Hyundai i20 Magna 1.4 CRDi (Diesel)</td>\n",
              "      <td>2014</td>\n",
              "      <td>409999</td>\n",
              "      <td>80000</td>\n",
              "      <td>Diesel</td>\n",
              "      <td>Individual</td>\n",
              "      <td>Manual</td>\n",
              "      <td>Second Owner</td>\n",
              "    </tr>\n",
              "    <tr>\n",
              "      <th>4336</th>\n",
              "      <td>Hyundai i20 Magna 1.4 CRDi</td>\n",
              "      <td>2014</td>\n",
              "      <td>409999</td>\n",
              "      <td>80000</td>\n",
              "      <td>Diesel</td>\n",
              "      <td>Individual</td>\n",
              "      <td>Manual</td>\n",
              "      <td>Second Owner</td>\n",
              "    </tr>\n",
              "    <tr>\n",
              "      <th>4337</th>\n",
              "      <td>Maruti 800 AC BSIII</td>\n",
              "      <td>2009</td>\n",
              "      <td>110000</td>\n",
              "      <td>83000</td>\n",
              "      <td>Petrol</td>\n",
              "      <td>Individual</td>\n",
              "      <td>Manual</td>\n",
              "      <td>Second Owner</td>\n",
              "    </tr>\n",
              "    <tr>\n",
              "      <th>4338</th>\n",
              "      <td>Hyundai Creta 1.6 CRDi SX Option</td>\n",
              "      <td>2016</td>\n",
              "      <td>865000</td>\n",
              "      <td>90000</td>\n",
              "      <td>Diesel</td>\n",
              "      <td>Individual</td>\n",
              "      <td>Manual</td>\n",
              "      <td>First Owner</td>\n",
              "    </tr>\n",
              "    <tr>\n",
              "      <th>4339</th>\n",
              "      <td>Renault KWID RXT</td>\n",
              "      <td>2016</td>\n",
              "      <td>225000</td>\n",
              "      <td>40000</td>\n",
              "      <td>Petrol</td>\n",
              "      <td>Individual</td>\n",
              "      <td>Manual</td>\n",
              "      <td>First Owner</td>\n",
              "    </tr>\n",
              "  </tbody>\n",
              "</table>\n",
              "<p>4340 rows × 8 columns</p>\n",
              "</div>\n",
              "      <button class=\"colab-df-convert\" onclick=\"convertToInteractive('df-2c0b13a3-4817-4fff-b1ea-b0972e2f47fc')\"\n",
              "              title=\"Convert this dataframe to an interactive table.\"\n",
              "              style=\"display:none;\">\n",
              "        \n",
              "  <svg xmlns=\"http://www.w3.org/2000/svg\" height=\"24px\"viewBox=\"0 0 24 24\"\n",
              "       width=\"24px\">\n",
              "    <path d=\"M0 0h24v24H0V0z\" fill=\"none\"/>\n",
              "    <path d=\"M18.56 5.44l.94 2.06.94-2.06 2.06-.94-2.06-.94-.94-2.06-.94 2.06-2.06.94zm-11 1L8.5 8.5l.94-2.06 2.06-.94-2.06-.94L8.5 2.5l-.94 2.06-2.06.94zm10 10l.94 2.06.94-2.06 2.06-.94-2.06-.94-.94-2.06-.94 2.06-2.06.94z\"/><path d=\"M17.41 7.96l-1.37-1.37c-.4-.4-.92-.59-1.43-.59-.52 0-1.04.2-1.43.59L10.3 9.45l-7.72 7.72c-.78.78-.78 2.05 0 2.83L4 21.41c.39.39.9.59 1.41.59.51 0 1.02-.2 1.41-.59l7.78-7.78 2.81-2.81c.8-.78.8-2.07 0-2.86zM5.41 20L4 18.59l7.72-7.72 1.47 1.35L5.41 20z\"/>\n",
              "  </svg>\n",
              "      </button>\n",
              "      \n",
              "  <style>\n",
              "    .colab-df-container {\n",
              "      display:flex;\n",
              "      flex-wrap:wrap;\n",
              "      gap: 12px;\n",
              "    }\n",
              "\n",
              "    .colab-df-convert {\n",
              "      background-color: #E8F0FE;\n",
              "      border: none;\n",
              "      border-radius: 50%;\n",
              "      cursor: pointer;\n",
              "      display: none;\n",
              "      fill: #1967D2;\n",
              "      height: 32px;\n",
              "      padding: 0 0 0 0;\n",
              "      width: 32px;\n",
              "    }\n",
              "\n",
              "    .colab-df-convert:hover {\n",
              "      background-color: #E2EBFA;\n",
              "      box-shadow: 0px 1px 2px rgba(60, 64, 67, 0.3), 0px 1px 3px 1px rgba(60, 64, 67, 0.15);\n",
              "      fill: #174EA6;\n",
              "    }\n",
              "\n",
              "    [theme=dark] .colab-df-convert {\n",
              "      background-color: #3B4455;\n",
              "      fill: #D2E3FC;\n",
              "    }\n",
              "\n",
              "    [theme=dark] .colab-df-convert:hover {\n",
              "      background-color: #434B5C;\n",
              "      box-shadow: 0px 1px 3px 1px rgba(0, 0, 0, 0.15);\n",
              "      filter: drop-shadow(0px 1px 2px rgba(0, 0, 0, 0.3));\n",
              "      fill: #FFFFFF;\n",
              "    }\n",
              "  </style>\n",
              "\n",
              "      <script>\n",
              "        const buttonEl =\n",
              "          document.querySelector('#df-2c0b13a3-4817-4fff-b1ea-b0972e2f47fc button.colab-df-convert');\n",
              "        buttonEl.style.display =\n",
              "          google.colab.kernel.accessAllowed ? 'block' : 'none';\n",
              "\n",
              "        async function convertToInteractive(key) {\n",
              "          const element = document.querySelector('#df-2c0b13a3-4817-4fff-b1ea-b0972e2f47fc');\n",
              "          const dataTable =\n",
              "            await google.colab.kernel.invokeFunction('convertToInteractive',\n",
              "                                                     [key], {});\n",
              "          if (!dataTable) return;\n",
              "\n",
              "          const docLinkHtml = 'Like what you see? Visit the ' +\n",
              "            '<a target=\"_blank\" href=https://colab.research.google.com/notebooks/data_table.ipynb>data table notebook</a>'\n",
              "            + ' to learn more about interactive tables.';\n",
              "          element.innerHTML = '';\n",
              "          dataTable['output_type'] = 'display_data';\n",
              "          await google.colab.output.renderOutput(dataTable, element);\n",
              "          const docLink = document.createElement('div');\n",
              "          docLink.innerHTML = docLinkHtml;\n",
              "          element.appendChild(docLink);\n",
              "        }\n",
              "      </script>\n",
              "    </div>\n",
              "  </div>\n",
              "  "
            ]
          },
          "metadata": {},
          "execution_count": 82
        }
      ],
      "source": [
        "import pandas as pd\n",
        "import numpy as np\n",
        "import seaborn as sb\n",
        "import matplotlib.pyplot as plt\n",
        "df = pd.read_csv('CAR DETAILS FROM CAR DEKHO.csv')\n",
        "df"
      ]
    },
    {
      "cell_type": "markdown",
      "source": [
        "#Step 2->Performing Exploratory Data Analysis (EDA)"
      ],
      "metadata": {
        "id": "N3SFXa_1fFpR"
      }
    },
    {
      "cell_type": "code",
      "source": [
        "df.info()"
      ],
      "metadata": {
        "colab": {
          "base_uri": "https://localhost:8080/"
        },
        "id": "WFQvDiPjfGyw",
        "outputId": "dca2ae7d-32ae-428c-e1fe-8c3488d7f8b6"
      },
      "execution_count": null,
      "outputs": [
        {
          "output_type": "stream",
          "name": "stdout",
          "text": [
            "<class 'pandas.core.frame.DataFrame'>\n",
            "RangeIndex: 4340 entries, 0 to 4339\n",
            "Data columns (total 8 columns):\n",
            " #   Column         Non-Null Count  Dtype \n",
            "---  ------         --------------  ----- \n",
            " 0   name           4340 non-null   object\n",
            " 1   year           4340 non-null   int64 \n",
            " 2   selling_price  4340 non-null   int64 \n",
            " 3   km_driven      4340 non-null   int64 \n",
            " 4   fuel           4340 non-null   object\n",
            " 5   seller_type    4340 non-null   object\n",
            " 6   transmission   4340 non-null   object\n",
            " 7   owner          4340 non-null   object\n",
            "dtypes: int64(3), object(5)\n",
            "memory usage: 271.4+ KB\n"
          ]
        }
      ]
    },
    {
      "cell_type": "code",
      "source": [
        "# Checking the dimensions of the dataset\n",
        "df.shape"
      ],
      "metadata": {
        "colab": {
          "base_uri": "https://localhost:8080/"
        },
        "id": "ybGIkgQPfarL",
        "outputId": "9cedc399-07e5-472b-deda-6e656e08e68d"
      },
      "execution_count": null,
      "outputs": [
        {
          "output_type": "execute_result",
          "data": {
            "text/plain": [
              "(4340, 8)"
            ]
          },
          "metadata": {},
          "execution_count": 84
        }
      ]
    },
    {
      "cell_type": "code",
      "source": [
        "# Checking number of entries in the dataset\n",
        "df.size"
      ],
      "metadata": {
        "colab": {
          "base_uri": "https://localhost:8080/"
        },
        "id": "gTpSlxPHfdKG",
        "outputId": "0e9c7c44-029e-48c3-99cd-09b22b6b4ff2"
      },
      "execution_count": null,
      "outputs": [
        {
          "output_type": "execute_result",
          "data": {
            "text/plain": [
              "34720"
            ]
          },
          "metadata": {},
          "execution_count": 85
        }
      ]
    },
    {
      "cell_type": "code",
      "source": [
        "df.describe()"
      ],
      "metadata": {
        "colab": {
          "base_uri": "https://localhost:8080/",
          "height": 300
        },
        "id": "weQnZzMUfhOn",
        "outputId": "e2724a5d-a383-4d48-a8ae-04e5a3d86c56"
      },
      "execution_count": null,
      "outputs": [
        {
          "output_type": "execute_result",
          "data": {
            "text/plain": [
              "              year  selling_price      km_driven\n",
              "count  4340.000000   4.340000e+03    4340.000000\n",
              "mean   2013.090783   5.041273e+05   66215.777419\n",
              "std       4.215344   5.785487e+05   46644.102194\n",
              "min    1992.000000   2.000000e+04       1.000000\n",
              "25%    2011.000000   2.087498e+05   35000.000000\n",
              "50%    2014.000000   3.500000e+05   60000.000000\n",
              "75%    2016.000000   6.000000e+05   90000.000000\n",
              "max    2020.000000   8.900000e+06  806599.000000"
            ],
            "text/html": [
              "\n",
              "  <div id=\"df-52132ed4-0405-4cfd-85a3-aa03a4a0d540\">\n",
              "    <div class=\"colab-df-container\">\n",
              "      <div>\n",
              "<style scoped>\n",
              "    .dataframe tbody tr th:only-of-type {\n",
              "        vertical-align: middle;\n",
              "    }\n",
              "\n",
              "    .dataframe tbody tr th {\n",
              "        vertical-align: top;\n",
              "    }\n",
              "\n",
              "    .dataframe thead th {\n",
              "        text-align: right;\n",
              "    }\n",
              "</style>\n",
              "<table border=\"1\" class=\"dataframe\">\n",
              "  <thead>\n",
              "    <tr style=\"text-align: right;\">\n",
              "      <th></th>\n",
              "      <th>year</th>\n",
              "      <th>selling_price</th>\n",
              "      <th>km_driven</th>\n",
              "    </tr>\n",
              "  </thead>\n",
              "  <tbody>\n",
              "    <tr>\n",
              "      <th>count</th>\n",
              "      <td>4340.000000</td>\n",
              "      <td>4.340000e+03</td>\n",
              "      <td>4340.000000</td>\n",
              "    </tr>\n",
              "    <tr>\n",
              "      <th>mean</th>\n",
              "      <td>2013.090783</td>\n",
              "      <td>5.041273e+05</td>\n",
              "      <td>66215.777419</td>\n",
              "    </tr>\n",
              "    <tr>\n",
              "      <th>std</th>\n",
              "      <td>4.215344</td>\n",
              "      <td>5.785487e+05</td>\n",
              "      <td>46644.102194</td>\n",
              "    </tr>\n",
              "    <tr>\n",
              "      <th>min</th>\n",
              "      <td>1992.000000</td>\n",
              "      <td>2.000000e+04</td>\n",
              "      <td>1.000000</td>\n",
              "    </tr>\n",
              "    <tr>\n",
              "      <th>25%</th>\n",
              "      <td>2011.000000</td>\n",
              "      <td>2.087498e+05</td>\n",
              "      <td>35000.000000</td>\n",
              "    </tr>\n",
              "    <tr>\n",
              "      <th>50%</th>\n",
              "      <td>2014.000000</td>\n",
              "      <td>3.500000e+05</td>\n",
              "      <td>60000.000000</td>\n",
              "    </tr>\n",
              "    <tr>\n",
              "      <th>75%</th>\n",
              "      <td>2016.000000</td>\n",
              "      <td>6.000000e+05</td>\n",
              "      <td>90000.000000</td>\n",
              "    </tr>\n",
              "    <tr>\n",
              "      <th>max</th>\n",
              "      <td>2020.000000</td>\n",
              "      <td>8.900000e+06</td>\n",
              "      <td>806599.000000</td>\n",
              "    </tr>\n",
              "  </tbody>\n",
              "</table>\n",
              "</div>\n",
              "      <button class=\"colab-df-convert\" onclick=\"convertToInteractive('df-52132ed4-0405-4cfd-85a3-aa03a4a0d540')\"\n",
              "              title=\"Convert this dataframe to an interactive table.\"\n",
              "              style=\"display:none;\">\n",
              "        \n",
              "  <svg xmlns=\"http://www.w3.org/2000/svg\" height=\"24px\"viewBox=\"0 0 24 24\"\n",
              "       width=\"24px\">\n",
              "    <path d=\"M0 0h24v24H0V0z\" fill=\"none\"/>\n",
              "    <path d=\"M18.56 5.44l.94 2.06.94-2.06 2.06-.94-2.06-.94-.94-2.06-.94 2.06-2.06.94zm-11 1L8.5 8.5l.94-2.06 2.06-.94-2.06-.94L8.5 2.5l-.94 2.06-2.06.94zm10 10l.94 2.06.94-2.06 2.06-.94-2.06-.94-.94-2.06-.94 2.06-2.06.94z\"/><path d=\"M17.41 7.96l-1.37-1.37c-.4-.4-.92-.59-1.43-.59-.52 0-1.04.2-1.43.59L10.3 9.45l-7.72 7.72c-.78.78-.78 2.05 0 2.83L4 21.41c.39.39.9.59 1.41.59.51 0 1.02-.2 1.41-.59l7.78-7.78 2.81-2.81c.8-.78.8-2.07 0-2.86zM5.41 20L4 18.59l7.72-7.72 1.47 1.35L5.41 20z\"/>\n",
              "  </svg>\n",
              "      </button>\n",
              "      \n",
              "  <style>\n",
              "    .colab-df-container {\n",
              "      display:flex;\n",
              "      flex-wrap:wrap;\n",
              "      gap: 12px;\n",
              "    }\n",
              "\n",
              "    .colab-df-convert {\n",
              "      background-color: #E8F0FE;\n",
              "      border: none;\n",
              "      border-radius: 50%;\n",
              "      cursor: pointer;\n",
              "      display: none;\n",
              "      fill: #1967D2;\n",
              "      height: 32px;\n",
              "      padding: 0 0 0 0;\n",
              "      width: 32px;\n",
              "    }\n",
              "\n",
              "    .colab-df-convert:hover {\n",
              "      background-color: #E2EBFA;\n",
              "      box-shadow: 0px 1px 2px rgba(60, 64, 67, 0.3), 0px 1px 3px 1px rgba(60, 64, 67, 0.15);\n",
              "      fill: #174EA6;\n",
              "    }\n",
              "\n",
              "    [theme=dark] .colab-df-convert {\n",
              "      background-color: #3B4455;\n",
              "      fill: #D2E3FC;\n",
              "    }\n",
              "\n",
              "    [theme=dark] .colab-df-convert:hover {\n",
              "      background-color: #434B5C;\n",
              "      box-shadow: 0px 1px 3px 1px rgba(0, 0, 0, 0.15);\n",
              "      filter: drop-shadow(0px 1px 2px rgba(0, 0, 0, 0.3));\n",
              "      fill: #FFFFFF;\n",
              "    }\n",
              "  </style>\n",
              "\n",
              "      <script>\n",
              "        const buttonEl =\n",
              "          document.querySelector('#df-52132ed4-0405-4cfd-85a3-aa03a4a0d540 button.colab-df-convert');\n",
              "        buttonEl.style.display =\n",
              "          google.colab.kernel.accessAllowed ? 'block' : 'none';\n",
              "\n",
              "        async function convertToInteractive(key) {\n",
              "          const element = document.querySelector('#df-52132ed4-0405-4cfd-85a3-aa03a4a0d540');\n",
              "          const dataTable =\n",
              "            await google.colab.kernel.invokeFunction('convertToInteractive',\n",
              "                                                     [key], {});\n",
              "          if (!dataTable) return;\n",
              "\n",
              "          const docLinkHtml = 'Like what you see? Visit the ' +\n",
              "            '<a target=\"_blank\" href=https://colab.research.google.com/notebooks/data_table.ipynb>data table notebook</a>'\n",
              "            + ' to learn more about interactive tables.';\n",
              "          element.innerHTML = '';\n",
              "          dataTable['output_type'] = 'display_data';\n",
              "          await google.colab.output.renderOutput(dataTable, element);\n",
              "          const docLink = document.createElement('div');\n",
              "          docLink.innerHTML = docLinkHtml;\n",
              "          element.appendChild(docLink);\n",
              "        }\n",
              "      </script>\n",
              "    </div>\n",
              "  </div>\n",
              "  "
            ]
          },
          "metadata": {},
          "execution_count": 86
        }
      ]
    },
    {
      "cell_type": "code",
      "source": [
        "# Checking for null values in our data set\n",
        "df.isnull().sum()"
      ],
      "metadata": {
        "colab": {
          "base_uri": "https://localhost:8080/"
        },
        "id": "6LXmxOZUfln7",
        "outputId": "8511818d-b5ce-4afb-e84a-83c19d6f90df"
      },
      "execution_count": null,
      "outputs": [
        {
          "output_type": "execute_result",
          "data": {
            "text/plain": [
              "name             0\n",
              "year             0\n",
              "selling_price    0\n",
              "km_driven        0\n",
              "fuel             0\n",
              "seller_type      0\n",
              "transmission     0\n",
              "owner            0\n",
              "dtype: int64"
            ]
          },
          "metadata": {},
          "execution_count": 87
        }
      ]
    },
    {
      "cell_type": "code",
      "source": [
        "print(\"Unique Values for the following dataset:\")\n",
        "print(\"name: \"+str(df[\"name\"].nunique()))\n",
        "print(\"year: \"+str(df[\"year\"].nunique()))\n",
        "print(\"selling_price : \"+str(df[\"selling_price\"].nunique()))\n",
        "print(\"km_driven: \"+str(df[\"km_driven\"].nunique()))\n",
        "print(\"fuel: \"+str(df[\"fuel\"].nunique()))\n",
        "print(\"seller_type\t: \"+str(df[\"seller_type\"].nunique()))\n",
        "print(\"transmission\t: \"+str(df[\"transmission\"].nunique()))\n",
        "print(\"owner: \"+str(df[\"owner\"].nunique()))\n"
      ],
      "metadata": {
        "colab": {
          "base_uri": "https://localhost:8080/"
        },
        "id": "FMD1U--Pfu4U",
        "outputId": "18fdbb6d-6bd6-4425-f362-6e9ee9efa905"
      },
      "execution_count": null,
      "outputs": [
        {
          "output_type": "stream",
          "name": "stdout",
          "text": [
            "Unique Values for the following dataset:\n",
            "name: 1491\n",
            "year: 27\n",
            "selling_price : 445\n",
            "km_driven: 770\n",
            "fuel: 5\n",
            "seller_type\t: 3\n",
            "transmission\t: 2\n",
            "owner: 5\n"
          ]
        }
      ]
    },
    {
      "cell_type": "code",
      "source": [
        "print(\"Values that are unique: \")\n",
        "print(\"name: \",df[\"name\"].unique())\n",
        "print(\"year: \",df[\"year\"].unique())\n",
        "print(\"selling_price : \",df[\"selling_price\"].unique())\n",
        "print(\"km_driven: \",df[\"km_driven\"].unique())\n",
        "print(\"fuel: \",df[\"fuel\"].unique())\n",
        "print(\"seller_type\t: \",df[\"seller_type\"].unique())\n",
        "print(\"transmission\t: \",df[\"transmission\"].unique())\n",
        "print(\"owner: \",df[\"owner\"].unique())"
      ],
      "metadata": {
        "id": "E1v1jbmjhN29",
        "colab": {
          "base_uri": "https://localhost:8080/"
        },
        "outputId": "8cf8ed2f-2c01-40a0-be64-86ad5733a2be"
      },
      "execution_count": null,
      "outputs": [
        {
          "output_type": "stream",
          "name": "stdout",
          "text": [
            "Values that are unique: \n",
            "name:  ['Maruti 800 AC' 'Maruti Wagon R LXI Minor' 'Hyundai Verna 1.6 SX' ...\n",
            " 'Mahindra Verito 1.5 D6 BSIII'\n",
            " 'Toyota Innova 2.5 VX (Diesel) 8 Seater BS IV'\n",
            " 'Hyundai i20 Magna 1.4 CRDi']\n",
            "year:  [2007 2012 2017 2014 2016 2015 2018 2019 2013 2011 2010 2009 2006 1996\n",
            " 2005 2008 2004 1998 2003 2002 2020 2000 1999 2001 1995 1997 1992]\n",
            "selling_price :  [  60000  135000  600000  250000  450000  140000  550000  240000  850000\n",
            "  365000  260000 1650000  585000 1195000  390000 1964999 1425000  975000\n",
            " 1190000  930000  525000 1735000 1375000  900000 1300000 1400000  229999\n",
            " 1550000 1250000  625000 1050000  560000  290000  275000  411000  150000\n",
            "  500000  100000  725000  401000  750000  310000  665000  465000  160000\n",
            "  675000  300000   70000  151000  280000  350000  570000  125000  130000\n",
            "  925000  200000  248000   80000  650000  495000  371000 1025000 8150000\n",
            "  325000 1470000 2800000  210000 1150000 4500000 2750000 1975000  175000\n",
            " 2500000  628000  399000  315000  780000  434000  690000  555000  120000\n",
            "  165000   95000  800000  840000  490000  400000 1000000  530000   40000\n",
            "   75000  540000  700000  430000   65000  195000  170000  225000   99000\n",
            "  620000 2550000  320000  810000  282000   72000  640000  380000 1500000\n",
            "  434999  190000 2900000  425000  265000  890000  685000  940000  590000\n",
            "  385000 2000000  235000   52000   89999  180000  285000 1075000   90000\n",
            "  220000  110000  880000  115999  360000  680000  860000  270000  395000\n",
            "  624000  345000  106000 1800000  575000  370000   50000   55000  755000\n",
            "  720000 1100000  159000  335000  185000  470000  145000  595000 1600000\n",
            "  105000  409999  215000  475000  330000 1044999 1350000  420000  760000\n",
            "   43000 1850000 1125000  133000  352000  520000  509999  556000  484999\n",
            "  565000  295000 2050000 1475000 4400000  670000  770000  775000 1725000\n",
            " 2150000 3800000 1580000 4950000  535000  239000 2600000  114999  200999\n",
            "  710000  969999  155000  138000  311000   58000  183000  825000  299000\n",
            "  639000  415000 1199000  699000  269000  249000 1549000  254999  211000\n",
            "  599000 4000000 1200000   98000  790000 1700000   68000  875000 1330000\n",
            "  919999  611000  711000  851000  610000  744000  480000  950000   85000\n",
            "  615000  227000  222000  735000  271000 1490000  455000  421000 2700000\n",
            " 4700000 1900000 1770000  660000  716000  147000 1140000 3050000  375000\n",
            " 1950000  340000 3100000  245000  715000 1750000 3500000  835000 2490000\n",
            " 1015000   91200 2400000  635000  302000  204999  341000  819999  351000\n",
            "  630000 1085000  580000   78000 3200000  695000  355000  619000   81000\n",
            "  486000  802000 2300000  287000  250999   45000 1485000 1825000 3256000\n",
            "  451000  149000  163000  419000  990000  346000  509000   69000 1380000\n",
            "  256000   97000  199000 2595000  730000  368000  545000  641000  784000\n",
            "  324000 2100000  305000  221000  828999 1119000  746000 1030000 1334000\n",
            "  811999 1331000  852000  830000  213000   35000  869999  178000  515000\n",
            "  312000  111000  774000  148000   57000  284000  349000  458000  381000\n",
            "  751000  782000  321000   92800  291000   73000  655000  263000  217000\n",
            "  539000  142000  910000  740000  164000  999000   56000 3899000  440000\n",
            "  238000 1295000  541000  894999  844999  288000 1225000 1010000   30000\n",
            "  396000  281000   93000  459999   88000   22000   79000  198000  182000\n",
            "  861999  836000  696000  596000  612000   20000   61000  511000 1230000\n",
            "  426000   62000 1450000   71000 2200000 1249000 1240000 1068000 1189000\n",
            "  363000  821000  815000  738000  765000  516000  134000  347000 2650000\n",
            " 2675000  359000  980000  707000  471000  377000  763000  701000  277000\n",
            "  936999   82000  799000 1451000 1575000   78692  479000   48000  121000\n",
            "  785000  173000 4800000  587000  123000 1290000  193000  721000 1040000\n",
            " 2349000 1165000   42000 1680000  231999  841000 1280000 1090000  449000\n",
            "  724000  126000  795000 2575000 1035000 1260000 8900000 1860000 4200000\n",
            " 5500000  430999 1151000  927999   51111  212000  428000  219000  749000\n",
            "  233000  614000   37500  865000]\n",
            "km_driven:  [ 70000  50000 100000  46000 141000 125000  25000  60000  78000  35000\n",
            "  24000   5000  33000  28000  59000   4500 175900  14500  15000  33800\n",
            " 130400  80000  10000 119000  75800  40000  74000  64000 120000  79000\n",
            "  18500  10200  29000  90000  73300  92000  66764 350000 230000  31000\n",
            "  39000 166000 110000  54000  63000  76000  11958  20000   9000   6500\n",
            "  58000  62200  34000  53000  49000  63500   9800  13000  21000  29173\n",
            "  48000  30000  87000  16000  79350  81000   3600  14272  49213  57000\n",
            "   3240 114000  53772 140000 175000  36000 155500  23000  22155  78380\n",
            " 150000  80362  55000   1136  43000   2650 115962  65000  56000 213000\n",
            " 139000 160000 163000  32000  52000  11240  66000  26500  72000  44000\n",
            " 130000 195000 155000   4000  41000  10832  14681  51000 200000  19600\n",
            "  46730  21170 167223 141440 212814  88635 149674   8000  68000  38000\n",
            "  75000  98000  81925  82080  97000  52047  62009  33100 220000  45000\n",
            " 180000  22000  80577 127500  40903  22288  61690  64484  75976  85962\n",
            "  57035  72104 164000 124439  77000   1250  17152  24005 149000  19000\n",
            " 109000  61000  27633  12586  38083  55328  81632 155201  93283 217871\n",
            "  90165 101504  86017  85036  91086 160254 125531  82000  84000 560000\n",
            "  14365  61083  66363  11700   7104  45974  55340  61585  39415  29654\n",
            "  64672  54634  66521  23974   1000  86000  52600  19890  11918  10510\n",
            "  47162  49824  58500  56580  46507  11451 172000  66508  29900   3000\n",
            "  85000   7900  17500 206500  88600 186000  11000 138000  27974  18000\n",
            "   1400 124000  42000  28205  32670  30093  56228  59319  39503  35299\n",
            "  51687  76259  44049  45087  41125  42215  54206  52547  59110  54565\n",
            "  47564  45143  61624 132000  10980  20629  69782  63654  59385  70378\n",
            "  55425  78413  40890  34823  55545  56541  43700  27483  56207   1440\n",
            "  91195  63657  97248  89000  12000  12997  26430  24600  28481  41988\n",
            "  30375   7658  34400  28942  53600  53652 106000 205000  79500 197000\n",
            "   9161  19077 128000  21302  10500 107000  55300  74300  48781  87620\n",
            "  40219  11473   8352   9745   9748  20694  31080  37605  55850  58850\n",
            "  23839  45454  46957 190000   1500  47000 116000  26350  71042 167870\n",
            " 133564  23038  43608  11212  49217  28838 135000  19571  29600  13500\n",
            "  48600 127643 102354  62237  21394  32686   1001  53261  14000  39895\n",
            "  73000  17000  18591  26766 300000  27620 223000 161327   6000  71000\n",
            " 144000  37000  26000  27000  13250 101000   8500  90246  60400  70950\n",
            "   1100  31491 107143  46412 107500  43826  55838 112880  30300  80659\n",
            "  81324 127884  66755 123084 806599  95851 234000 170000  96000  19014\n",
            "  23262  35925  40771  30500  55800  66569  81358  82695  68293 190621\n",
            "  64700  88470 126000  74183      1 192000  83411  13270  88000   7000\n",
            "  13770 102000 143000 115000 136906 133000  28689  80322  61658 185000\n",
            "  30600 235000  67000  74500 118700 223660   2000  73756  16400  41395\n",
            "  71014 181000  89550 149500  83000  44800 156000 146000  99000  37516\n",
            "  25880 136000   2020  94000  88500  52536   1950 118400   6480  32077\n",
            "  19107  18469  28217  72787  31063  79641  58692  54784  64156   9500\n",
            "  81366 244000 312000 145000   7300  72539    101  52328  91505  20500\n",
            " 154000  41723  68745  27289  24662  28245  27005  39227  31367  35008\n",
            " 100005  45264  39093  45241   2769  43128  22255  59213   1010   1111\n",
            "  48965   5166  76290  45766  78771  79357  76736  92645 101849 155836\n",
            "  63230   1758   1452  35122  92621  92198 152000  78322  54309  34600\n",
            "  38217  77073  16584  81257   3917  69069  59059  39039  33033  55168\n",
            "  41041  67067  66066  82082  70070  63063   9528 135200  50300 151624\n",
            "  74820 129000  66778  63400 157000  38500 103921  14825  43377 102307\n",
            " 245244  68500   5007  49600  43100  10171  41123  20118  52517  99117\n",
            "   3700  43500 137250   5400  11200  93000  62000   5800 267000 250000\n",
            "  28635  32114  95149  68458 105546 104000 132343  26134  52895  42324\n",
            "  60236  10300 142000  28643   7600  47253   4432  68523  80251  34500\n",
            "  42743  93900  55766 113600 138925 121764 105429  23122  44500  13599\n",
            "   5200  12700  95000  45839  74510  87293 156040  93415 101159  68519\n",
            "  55130  65239  58182  91245 102989 108000 178000  75118   4637  42655\n",
            "  69000 117000 105000 182000  24585  13900  17563 173000 151000 117780\n",
            "  81595   9700 221000  28740  48500 148620 270000  41090 296823  89255\n",
            " 168000   5550   1700  45217  44440  91365  90010  31800  59100  31200\n",
            "  22700  50900   2417  65500 140300  10211 260000  32933  54551  57112\n",
            "  41025  53122  64111  78892  74113  84775  20778  64441  43192  44416\n",
            "  79991  62601  89600  60800  69111  20969  20194  34982  44588  57904\n",
            "  59258  60826   1300  31707 115992 109052  90658  25552  40700  11174\n",
            "  72500  76600  97700  37500  23800  44077 210000   9422 240000  17100\n",
            " 224642 222435 159000 101100   1200 134444 238000 165000  63700  74800\n",
            "  60516  76731  63840  76400  31489 295000 158000 400000  19495  62668\n",
            "  85710  63356 129627   4400  14987  25061  42494  44875  89741 347089\n",
            " 222252  55250  12500 162000  22038   2500  89126 134000  42500 131365\n",
            "  48980  98900  13800  99700  49654  45457  39221  48220  11114  60208\n",
            "  98600  85441  64541  16267  71500  12999  14700  92686  49359 108731\n",
            "  29976  30646  23600  71318  78098  18054  38406  54350  32260  58231\n",
            "  59858  73350  88473  96987  77350  61187  68350  81150 280000 105700\n",
            "  37091  38900   9400  14100  37555  56600  67580  48238  38365  23670\n",
            "  49834  57353  68308  63240  64916  37161 118000  50852  53500  51500\n",
            "  79800   6590  49957  43235  50699 140730 256000 218000  66782 112198]\n",
            "fuel:  ['Petrol' 'Diesel' 'CNG' 'LPG' 'Electric']\n",
            "seller_type\t:  ['Individual' 'Dealer' 'Trustmark Dealer']\n",
            "transmission\t:  ['Manual' 'Automatic']\n",
            "owner:  ['First Owner' 'Second Owner' 'Fourth & Above Owner' 'Third Owner'\n",
            " 'Test Drive Car']\n"
          ]
        }
      ]
    },
    {
      "cell_type": "code",
      "source": [
        "#Count of occurences for every unique element in \"name\" column\n",
        "df.groupby(\"name\",sort=False).size()"
      ],
      "metadata": {
        "colab": {
          "base_uri": "https://localhost:8080/"
        },
        "id": "8FIi36cfjyMx",
        "outputId": "f278efc1-d0ed-4887-dd46-8a3efa8d884f"
      },
      "execution_count": null,
      "outputs": [
        {
          "output_type": "execute_result",
          "data": {
            "text/plain": [
              "name\n",
              "Maruti 800 AC                                   23\n",
              "Maruti Wagon R LXI Minor                        24\n",
              "Hyundai Verna 1.6 SX                            15\n",
              "Datsun RediGO T Option                           7\n",
              "Honda Amaze VX i-DTEC                            9\n",
              "                                                ..\n",
              "Maruti Swift LDI                                 1\n",
              "Tata Nano XM                                     1\n",
              "Mahindra Verito 1.5 D6 BSIII                     1\n",
              "Toyota Innova 2.5 VX (Diesel) 8 Seater BS IV     1\n",
              "Hyundai i20 Magna 1.4 CRDi                       1\n",
              "Length: 1491, dtype: int64"
            ]
          },
          "metadata": {},
          "execution_count": 90
        }
      ]
    },
    {
      "cell_type": "code",
      "source": [
        "#Count of occurences for every unique element in \"year\" column\n",
        "df.groupby(\"year\",sort=False).size()"
      ],
      "metadata": {
        "colab": {
          "base_uri": "https://localhost:8080/"
        },
        "id": "aBsxGx_2j0N_",
        "outputId": "c4a7461f-0883-40aa-ad25-f53607c3d574"
      },
      "execution_count": null,
      "outputs": [
        {
          "output_type": "execute_result",
          "data": {
            "text/plain": [
              "year\n",
              "2007    134\n",
              "2012    415\n",
              "2017    466\n",
              "2014    367\n",
              "2016    357\n",
              "2015    421\n",
              "2018    366\n",
              "2019    195\n",
              "2013    386\n",
              "2011    271\n",
              "2010    234\n",
              "2009    193\n",
              "2006    110\n",
              "1996      2\n",
              "2005     85\n",
              "2008    145\n",
              "2004     42\n",
              "1998     12\n",
              "2003     23\n",
              "2002     21\n",
              "2020     48\n",
              "2000     12\n",
              "1999     10\n",
              "2001     20\n",
              "1995      1\n",
              "1997      3\n",
              "1992      1\n",
              "dtype: int64"
            ]
          },
          "metadata": {},
          "execution_count": 91
        }
      ]
    },
    {
      "cell_type": "code",
      "source": [
        "#Count of occurences for every unique element in \"km_driven\" column\n",
        "df.groupby(\"km_driven\",sort=False).size()"
      ],
      "metadata": {
        "colab": {
          "base_uri": "https://localhost:8080/"
        },
        "id": "cDS6CdIhkciM",
        "outputId": "83d4e9ab-b4ee-4448-953a-f076ad79c638"
      },
      "execution_count": null,
      "outputs": [
        {
          "output_type": "execute_result",
          "data": {
            "text/plain": [
              "km_driven\n",
              "70000     236\n",
              "50000     222\n",
              "100000    180\n",
              "46000      16\n",
              "141000      2\n",
              "         ... \n",
              "140730      1\n",
              "256000      1\n",
              "218000      2\n",
              "66782       1\n",
              "112198      1\n",
              "Length: 770, dtype: int64"
            ]
          },
          "metadata": {},
          "execution_count": 92
        }
      ]
    },
    {
      "cell_type": "code",
      "source": [
        "#Count of occurences for every unique element in \"fuel\" column\n",
        "df.groupby(\"fuel\",sort=False).size()"
      ],
      "metadata": {
        "colab": {
          "base_uri": "https://localhost:8080/"
        },
        "id": "3-oJBrrUj1e9",
        "outputId": "6d085256-306a-41a0-eb01-bbccdec913f3"
      },
      "execution_count": null,
      "outputs": [
        {
          "output_type": "execute_result",
          "data": {
            "text/plain": [
              "fuel\n",
              "Petrol      2123\n",
              "Diesel      2153\n",
              "CNG           40\n",
              "LPG           23\n",
              "Electric       1\n",
              "dtype: int64"
            ]
          },
          "metadata": {},
          "execution_count": 93
        }
      ]
    },
    {
      "cell_type": "code",
      "source": [
        "#Count of occurences for every unique element in \"seller_type\" column\n",
        "df.groupby(\"seller_type\",sort=False).size()"
      ],
      "metadata": {
        "colab": {
          "base_uri": "https://localhost:8080/"
        },
        "id": "IIgjhKCHj2Cf",
        "outputId": "c1e07d50-6407-4a1b-e43b-4ff7903ee7f4"
      },
      "execution_count": null,
      "outputs": [
        {
          "output_type": "execute_result",
          "data": {
            "text/plain": [
              "seller_type\n",
              "Individual          3244\n",
              "Dealer               994\n",
              "Trustmark Dealer     102\n",
              "dtype: int64"
            ]
          },
          "metadata": {},
          "execution_count": 94
        }
      ]
    },
    {
      "cell_type": "code",
      "source": [
        "#Count of occurences for every unique element in \"transmission\" column\n",
        "df.groupby(\"transmission\",sort=False).size()"
      ],
      "metadata": {
        "colab": {
          "base_uri": "https://localhost:8080/"
        },
        "id": "fOD0d7GpkHwp",
        "outputId": "ec09b3a5-ee57-4233-8c73-0f802b9ef291"
      },
      "execution_count": null,
      "outputs": [
        {
          "output_type": "execute_result",
          "data": {
            "text/plain": [
              "transmission\n",
              "Manual       3892\n",
              "Automatic     448\n",
              "dtype: int64"
            ]
          },
          "metadata": {},
          "execution_count": 95
        }
      ]
    },
    {
      "cell_type": "code",
      "source": [
        "#Count of occurences for every unique element in \"owner\" column\n",
        "df.groupby(\"owner\",sort=False).size()"
      ],
      "metadata": {
        "colab": {
          "base_uri": "https://localhost:8080/"
        },
        "id": "VjJpBMa1kUXI",
        "outputId": "51947d59-dbea-493a-f2ac-d7fbff6a119e"
      },
      "execution_count": null,
      "outputs": [
        {
          "output_type": "execute_result",
          "data": {
            "text/plain": [
              "owner\n",
              "First Owner             2832\n",
              "Second Owner            1106\n",
              "Fourth & Above Owner      81\n",
              "Third Owner              304\n",
              "Test Drive Car            17\n",
              "dtype: int64"
            ]
          },
          "metadata": {},
          "execution_count": 96
        }
      ]
    },
    {
      "cell_type": "markdown",
      "source": [
        "#Step 3. Data Visualization"
      ],
      "metadata": {
        "id": "t-KTiFLmkwLV"
      }
    },
    {
      "cell_type": "code",
      "source": [
        "#Plot for Count of different Ownership Levels of Car\n",
        "plt.figure(figsize=(10,5))\n",
        "sb.countplot(x='owner',data=df)\n",
        "plt.title(\"count of Ownership level\")"
      ],
      "metadata": {
        "id": "-g2FzyJrw6S7",
        "colab": {
          "base_uri": "https://localhost:8080/",
          "height": 367
        },
        "outputId": "01ed8af6-f811-4917-9a05-9cf254620c35"
      },
      "execution_count": null,
      "outputs": [
        {
          "output_type": "execute_result",
          "data": {
            "text/plain": [
              "Text(0.5, 1.0, 'count of Ownership level')"
            ]
          },
          "metadata": {},
          "execution_count": 97
        },
        {
          "output_type": "display_data",
          "data": {
            "text/plain": [
              "<Figure size 720x360 with 1 Axes>"
            ],
            "image/png": "[encoded data removed]"
          },
          "metadata": {
            "needs_background": "light"
          }
        }
      ]
    },
    {
      "cell_type": "code",
      "source": [
        "#Plot for Vehicles with different fuel types\n",
        "plt.figure(figsize=(10,5))\n",
        "sb.countplot(x='fuel',data=df)\n",
        "plt.title(\"vehicles of different fuel type\")"
      ],
      "metadata": {
        "colab": {
          "base_uri": "https://localhost:8080/",
          "height": 367
        },
        "id": "m7ouFizRfuFT",
        "outputId": "f70001cd-6f82-47e3-808a-6149f0cc573d"
      },
      "execution_count": null,
      "outputs": [
        {
          "output_type": "execute_result",
          "data": {
            "text/plain": [
              "Text(0.5, 1.0, 'vehicles of different fuel type')"
            ]
          },
          "metadata": {},
          "execution_count": 98
        },
        {
          "output_type": "display_data",
          "data": {
            "text/plain": [
              "<Figure size 720x360 with 1 Axes>"
            ],
            "image/png": "[encoded data removed]"
          },
          "metadata": {
            "needs_background": "light"
          }
        }
      ]
    },
    {
      "cell_type": "code",
      "source": [
        "# Pie chart for type of vehicle transmission\n",
        "trans = df.groupby('transmission',sort = False).size()\n",
        "labels = [\"Manual\", \"Automatic\"]\n",
        "explode = [0.2, 0]\n",
        "plt.figure(figsize=(7,7))\n",
        "plt.pie(trans, labels=labels, explode=explode, shadow=True, autopct=\"%1.1f%%\")\n",
        "plt.title(\"Percentage of vehicles with Automatic transmissions\")"
      ],
      "metadata": {
        "colab": {
          "base_uri": "https://localhost:8080/",
          "height": 444
        },
        "id": "mR8b7b23_zuc",
        "outputId": "a40f8580-12f5-4791-a309-d976506cdb52"
      },
      "execution_count": null,
      "outputs": [
        {
          "output_type": "execute_result",
          "data": {
            "text/plain": [
              "Text(0.5, 1.0, 'Percentage of vehicles with Automatic transmissions')"
            ]
          },
          "metadata": {},
          "execution_count": 99
        },
        {
          "output_type": "display_data",
          "data": {
            "text/plain": [
              "<Figure size 504x504 with 1 Axes>"
            ],
            "image/png": "[encoded data removed]"
          },
          "metadata": {}
        }
      ]
    },
    {
      "cell_type": "code",
      "source": [
        "#Pie Chart for percentage of different types of seller\n",
        "seller = df.groupby('seller_type',sort = False).size()\n",
        "labels = [\"Individual\", \"Dealer\", \"Trustmark Dealer\"]\n",
        "explode = [0, 0.2, 0.1]\n",
        "plt.figure(figsize=(7,7))\n",
        "plt.pie(seller, labels=labels, explode=explode, shadow=True, autopct=\"%1.1f%%\")\n",
        "plt.title(\"Percentage of different types of sellers\")"
      ],
      "metadata": {
        "colab": {
          "base_uri": "https://localhost:8080/",
          "height": 444
        },
        "id": "bECbGQQ1fWIL",
        "outputId": "cb48733c-1406-454b-c948-836ad7b75a99"
      },
      "execution_count": null,
      "outputs": [
        {
          "output_type": "execute_result",
          "data": {
            "text/plain": [
              "Text(0.5, 1.0, 'Percentage of different types of sellers')"
            ]
          },
          "metadata": {},
          "execution_count": 100
        },
        {
          "output_type": "display_data",
          "data": {
            "text/plain": [
              "<Figure size 504x504 with 1 Axes>"
            ],
            "image/png": "[encoded data removed]"
          },
          "metadata": {}
        }
      ]
    },
    {
      "cell_type": "code",
      "source": [
        "#Plot for Count of Vehicle manufactured in different years\n",
        "plt.figure(figsize=(20,7))\n",
        "sb.countplot(x='year',data=df)\n",
        "plt.title(\"Manufacturing Year\")"
      ],
      "metadata": {
        "colab": {
          "base_uri": "https://localhost:8080/",
          "height": 454
        },
        "id": "9BFXMhv6lpo2",
        "outputId": "87198e27-5099-4ec6-fdb4-7f20bdbec477"
      },
      "execution_count": null,
      "outputs": [
        {
          "output_type": "execute_result",
          "data": {
            "text/plain": [
              "Text(0.5, 1.0, 'Manufacturing Year')"
            ]
          },
          "metadata": {},
          "execution_count": 101
        },
        {
          "output_type": "display_data",
          "data": {
            "text/plain": [
              "<Figure size 1440x504 with 1 Axes>"
            ],
            "image/png": "[encoded data removed]"
          },
          "metadata": {
            "needs_background": "light"
          }
        }
      ]
    },
    {
      "cell_type": "code",
      "source": [
        "#Scatter Plot for the selling price of vehicle for a particular km_driven reading\n",
        "plt.scatter(df['km_driven'],df['selling_price'])"
      ],
      "metadata": {
        "colab": {
          "base_uri": "https://localhost:8080/",
          "height": 293
        },
        "id": "BRdFLMf3kuk2",
        "outputId": "50ac5b03-f5f9-4410-b69a-fea9fce4ac52"
      },
      "execution_count": null,
      "outputs": [
        {
          "output_type": "execute_result",
          "data": {
            "text/plain": [
              "<matplotlib.collections.PathCollection at 0x7fdc989bef10>"
            ]
          },
          "metadata": {},
          "execution_count": 102
        },
        {
          "output_type": "display_data",
          "data": {
            "text/plain": [
              "<Figure size 432x288 with 1 Axes>"
            ],
            "image/png": "[encoded data removed]"
          },
          "metadata": {
            "needs_background": "light"
          }
        }
      ]
    },
    {
      "cell_type": "markdown",
      "source": [
        "#Step 4->Divide data into input and output"
      ],
      "metadata": {
        "id": "plHuDfHNqmVR"
      }
    },
    {
      "cell_type": "code",
      "source": [
        "# We will take km_driven column as the input for our model\n",
        "x = df.iloc[:4300,3:4].values #.values converts the column into an array\n",
        "x"
      ],
      "metadata": {
        "colab": {
          "base_uri": "https://localhost:8080/"
        },
        "id": "KPZHGXf9nynt",
        "outputId": "6d5f2d25-674d-4422-8ccd-41a49a537f84"
      },
      "execution_count": null,
      "outputs": [
        {
          "output_type": "execute_result",
          "data": {
            "text/plain": [
              "array([[ 70000],\n",
              "       [ 50000],\n",
              "       [100000],\n",
              "       ...,\n",
              "       [  5007],\n",
              "       [ 30000],\n",
              "       [ 70000]])"
            ]
          },
          "metadata": {},
          "execution_count": 103
        }
      ]
    },
    {
      "cell_type": "code",
      "source": [
        "# We will take selling_price column as the output for our model\n",
        "y= df.iloc[:4300,2].values #.values converts the column into an array\n",
        "y"
      ],
      "metadata": {
        "colab": {
          "base_uri": "https://localhost:8080/"
        },
        "id": "qstCmcJfoX1T",
        "outputId": "0a9af43f-2fba-4725-ea0e-dba96b23dc1a"
      },
      "execution_count": null,
      "outputs": [
        {
          "output_type": "execute_result",
          "data": {
            "text/plain": [
              "array([ 60000, 135000, 600000, ..., 484999, 164000, 140000])"
            ]
          },
          "metadata": {},
          "execution_count": 104
        }
      ]
    },
    {
      "cell_type": "markdown",
      "source": [
        "# Step 5->Training and Testing data"
      ],
      "metadata": {
        "id": "6_xRLcTuoslX"
      }
    },
    {
      "cell_type": "code",
      "source": [
        "# train_test_split(4 variables -i/p training,i/p testing,o/p train,o/p test)\n",
        "# x_train contains all the input values of km_driven for training the model\n",
        "# y_train contains all the values of selling_price(output) for training the model\n",
        "from sklearn.model_selection import train_test_split\n",
        "#95% of 4300 rows are used for training purpose and rest 5% for testing purpose\n",
        "x_train, x_test, y_train, y_test = train_test_split(x, y, test_size=0.15, random_state = 0)\n"
      ],
      "metadata": {
        "id": "j8wIlovpouuO"
      },
      "execution_count": null,
      "outputs": []
    },
    {
      "cell_type": "code",
      "source": [
        "print(x.shape)\n",
        "print(x_train.shape)\n",
        "print(x_test.shape)"
      ],
      "metadata": {
        "colab": {
          "base_uri": "https://localhost:8080/"
        },
        "id": "EOW7Z2WRpHZM",
        "outputId": "f02b464d-7e29-4ef6-c9ba-67c87fc853fb"
      },
      "execution_count": null,
      "outputs": [
        {
          "output_type": "stream",
          "name": "stdout",
          "text": [
            "(4300, 1)\n",
            "(3655, 1)\n",
            "(645, 1)\n"
          ]
        }
      ]
    },
    {
      "cell_type": "code",
      "source": [
        "print(y.shape)\n",
        "print(y_train.shape)\n",
        "print(y_test.shape)"
      ],
      "metadata": {
        "colab": {
          "base_uri": "https://localhost:8080/"
        },
        "id": "pKs1n93EpLSU",
        "outputId": "4ab63d13-f5ec-4b9d-87fa-dbd24bc27f20"
      },
      "execution_count": null,
      "outputs": [
        {
          "output_type": "stream",
          "name": "stdout",
          "text": [
            "(4300,)\n",
            "(3655,)\n",
            "(645,)\n"
          ]
        }
      ]
    },
    {
      "cell_type": "markdown",
      "source": [
        "#Step 6. Running a Regressor"
      ],
      "metadata": {
        "id": "WrPuYS56pN_f"
      }
    },
    {
      "cell_type": "code",
      "source": [
        "#Linear Regression\n",
        "from sklearn.linear_model import LinearRegression\n",
        "model = LinearRegression()"
      ],
      "metadata": {
        "id": "U1g_YvURpPfm"
      },
      "execution_count": null,
      "outputs": []
    },
    {
      "cell_type": "markdown",
      "source": [
        "#Step 7. Fitting the model"
      ],
      "metadata": {
        "id": "ArIJw7qlpWWW"
      }
    },
    {
      "cell_type": "code",
      "source": [
        "model.fit(x,y)"
      ],
      "metadata": {
        "colab": {
          "base_uri": "https://localhost:8080/"
        },
        "id": "e1xfLzTrpZEB",
        "outputId": "88b67e04-31a1-4a15-ea2a-2540fee1101b"
      },
      "execution_count": null,
      "outputs": [
        {
          "output_type": "execute_result",
          "data": {
            "text/plain": [
              "LinearRegression()"
            ]
          },
          "metadata": {},
          "execution_count": 109
        }
      ]
    },
    {
      "cell_type": "markdown",
      "source": [
        "#Step 8. Predict the Output"
      ],
      "metadata": {
        "id": "bFvLFLaUprie"
      }
    },
    {
      "cell_type": "code",
      "source": [
        "y_pred = model.predict(x)\n",
        "y_pred"
      ],
      "metadata": {
        "id": "1DgLMBsIpsuN",
        "colab": {
          "base_uri": "https://localhost:8080/"
        },
        "outputId": "1342d059-aa80-4b98-b8ac-3ea9c98b3884"
      },
      "execution_count": null,
      "outputs": [
        {
          "output_type": "execute_result",
          "data": {
            "text/plain": [
              "array([494688.66086409, 541960.96419385, 423780.20586945, ...,\n",
              "       648307.10137966, 589233.26752362, 494688.66086409])"
            ]
          },
          "metadata": {},
          "execution_count": 110
        }
      ]
    },
    {
      "cell_type": "code",
      "source": [
        "y\n"
      ],
      "metadata": {
        "colab": {
          "base_uri": "https://localhost:8080/"
        },
        "id": "A4YmfACs-DIX",
        "outputId": "b73062d7-bea3-4ec6-ea52-4711e037f1d6"
      },
      "execution_count": null,
      "outputs": [
        {
          "output_type": "execute_result",
          "data": {
            "text/plain": [
              "array([ 60000, 135000, 600000, ..., 484999, 164000, 140000])"
            ]
          },
          "metadata": {},
          "execution_count": 111
        }
      ]
    },
    {
      "cell_type": "code",
      "source": [
        "# We will find the estimated selling price of the vehicle with km reading=110000 km\n",
        "model.predict([[100000]])"
      ],
      "metadata": {
        "id": "QUrMqdmLp77q",
        "colab": {
          "base_uri": "https://localhost:8080/"
        },
        "outputId": "85712f6a-1998-4f25-bba5-ee71c48d9b3f"
      },
      "execution_count": null,
      "outputs": [
        {
          "output_type": "execute_result",
          "data": {
            "text/plain": [
              "array([423550.37609141])"
            ]
          },
          "metadata": {},
          "execution_count": 99
        }
      ]
    },
    {
      "cell_type": "code",
      "source": [
        "m = model.coef_\n",
        "m"
      ],
      "metadata": {
        "colab": {
          "base_uri": "https://localhost:8080/"
        },
        "id": "8SpNuWh0-N2o",
        "outputId": "e9916fc2-097f-4ff6-ea6a-08476cb392c5"
      },
      "execution_count": null,
      "outputs": [
        {
          "output_type": "execute_result",
          "data": {
            "text/plain": [
              "array([-2.36361517])"
            ]
          },
          "metadata": {},
          "execution_count": 113
        }
      ]
    },
    {
      "cell_type": "code",
      "source": [
        "C = model.intercept_ \n",
        "C"
      ],
      "metadata": {
        "colab": {
          "base_uri": "https://localhost:8080/"
        },
        "id": "7ufuZYSC-PQi",
        "outputId": "714d1aa2-3200-40f1-ade2-4f444f047d79"
      },
      "execution_count": null,
      "outputs": [
        {
          "output_type": "execute_result",
          "data": {
            "text/plain": [
              "660141.7225182625"
            ]
          },
          "metadata": {},
          "execution_count": 114
        }
      ]
    },
    {
      "cell_type": "code",
      "source": [
        "m * 110000 + C"
      ],
      "metadata": {
        "colab": {
          "base_uri": "https://localhost:8080/"
        },
        "id": "4sxzr77c-Szj",
        "outputId": "6dc8db15-e258-48de-bac3-dcc62ed8198b"
      },
      "execution_count": null,
      "outputs": [
        {
          "output_type": "execute_result",
          "data": {
            "text/plain": [
              "array([400144.05420457])"
            ]
          },
          "metadata": {},
          "execution_count": 115
        }
      ]
    },
    {
      "cell_type": "code",
      "source": [
        "plt.scatter(x,y)\n",
        "plt.plot(x,y_pred,c ='orangered')"
      ],
      "metadata": {
        "colab": {
          "base_uri": "https://localhost:8080/",
          "height": 293
        },
        "id": "CKe9rM585ckp",
        "outputId": "97ed2b7a-ffb6-4c0c-cedc-d08181d2d785"
      },
      "execution_count": null,
      "outputs": [
        {
          "output_type": "execute_result",
          "data": {
            "text/plain": [
              "[<matplotlib.lines.Line2D at 0x7fdc988caf50>]"
            ]
          },
          "metadata": {},
          "execution_count": 116
        },
        {
          "output_type": "display_data",
          "data": {
            "text/plain": [
              "<Figure size 432x288 with 1 Axes>"
            ],
            "image/png": "[encoded data removed]"
          },
          "metadata": {
            "needs_background": "light"
          }
        }
      ]
    },
    {
      "cell_type": "markdown",
      "source": [
        "#Step 9. Accuracy and Testing"
      ],
      "metadata": {
        "id": "-mzpYUbDqZUG"
      }
    },
    {
      "cell_type": "code",
      "source": [
        "# defining functions to calculate the accuracy for different hyperparameters.\n",
        "from sklearn.metrics import explained_variance_score\n",
        "def get_model(df, n, test_size=0.05, random_state=0):\n",
        "  x = df.iloc[:n, 3:4] if n != -1 else df.iloc[:, 3:4]\n",
        "  y = df.iloc[:n, 2] if n != -1 else df.iloc[:, 2]\n",
        "  x_train, x_test, y_train, y_test = train_test_split(x, y, test_size=test_size, random_state=random_state)\n",
        "  model = LinearRegression()\n",
        "  model.fit(x_train, y_train)\n",
        "  y_pred = model.predict(x_test)\n",
        "  var_score = explained_variance_score(y_test, y_pred)\n",
        "  return model, var_score, n, random_state"
      ],
      "metadata": {
        "id": "A5hZrltsqdMe"
      },
      "execution_count": null,
      "outputs": []
    },
    {
      "cell_type": "code",
      "source": [
        "models = []\n",
        "n_rows = [4300, -1] # taking 1. 4123 rows and 2. all rows\n",
        "random_states = [0, 10, 15, 20, 25, 30, 35, 40] # different random_states\n",
        "test_size = 0.05 # we will always take 95% of rows for training.\n",
        "for n in n_rows:\n",
        "  for random_state in random_states:\n",
        "    models.append(get_model(df, n, test_size, random_state))"
      ],
      "metadata": {
        "id": "iH7ejtIds5dI"
      },
      "execution_count": null,
      "outputs": []
    },
    {
      "cell_type": "code",
      "source": [
        "for i in range(len(models)):\n",
        "  print(f'#{i+1} Var-Score: {models[i][1]} N-Rows: {models[i][2]} Random State: {models[i][3]}')"
      ],
      "metadata": {
        "colab": {
          "base_uri": "https://localhost:8080/"
        },
        "id": "H_SsfbySv5XN",
        "outputId": "f86a8a99-641a-4f36-c86a-23dd7340165f"
      },
      "execution_count": null,
      "outputs": [
        {
          "output_type": "stream",
          "name": "stdout",
          "text": [
            "#1 Var-Score: 0.040263820512726145 N-Rows: 4300 Random State: 0\n",
            "#2 Var-Score: 0.04006121211955316 N-Rows: 4300 Random State: 10\n",
            "#3 Var-Score: 0.03484280021980202 N-Rows: 4300 Random State: 15\n",
            "#4 Var-Score: 0.053960544234787355 N-Rows: 4300 Random State: 20\n",
            "#5 Var-Score: 0.03085391183457642 N-Rows: 4300 Random State: 25\n",
            "#6 Var-Score: 0.024672983901840917 N-Rows: 4300 Random State: 30\n",
            "#7 Var-Score: 0.026279050353976596 N-Rows: 4300 Random State: 35\n",
            "#8 Var-Score: 0.06520746540256772 N-Rows: 4300 Random State: 40\n",
            "#9 Var-Score: 0.0497806261364947 N-Rows: -1 Random State: 0\n",
            "#10 Var-Score: 0.03531484433205612 N-Rows: -1 Random State: 10\n",
            "#11 Var-Score: 0.05137492398379351 N-Rows: -1 Random State: 15\n",
            "#12 Var-Score: 0.03931705567699417 N-Rows: -1 Random State: 20\n",
            "#13 Var-Score: 0.06220475522744795 N-Rows: -1 Random State: 25\n",
            "#14 Var-Score: 0.010291260555289394 N-Rows: -1 Random State: 30\n",
            "#15 Var-Score: 0.056747236588216565 N-Rows: -1 Random State: 35\n",
            "#16 Var-Score: 0.0421228211417527 N-Rows: -1 Random State: 40\n"
          ]
        }
      ]
    },
    {
      "cell_type": "code",
      "source": [
        "# Plotting the Random state v/s Var-Score for 4300 rows and for all Rows\n",
        "random_states = [[model[3] for model in models if model[2] == 4300], [model[3] for model in models if model[2] == -1]]\n",
        "var_scores = [[model[1] for model in models if model[2] == 4300], [model[1] for model in models if model[2] == -1]]\n",
        "\n",
        "plt.subplot(1,2,1)\n",
        "\n",
        "plt.plot(random_states[0], var_scores[0])\n",
        "plt.xlabel('Random States')\n",
        "plt.ylabel('Explained Variance Score')\n",
        "\n",
        "plt.title('4300 rows')\n",
        "\n",
        "plt.subplot(1,2,2)\n",
        "plt.plot(random_states[1], var_scores[1])\n",
        "plt.xlabel('Random States')\n",
        "plt.ylabel('Explained Variance Score')\n",
        "\n",
        "plt.title('All rows')\n",
        "plt.tight_layout()\n",
        "plt.show()"
      ],
      "metadata": {
        "colab": {
          "base_uri": "https://localhost:8080/",
          "height": 297
        },
        "id": "bxFjlyaTwBJM",
        "outputId": "03dc527b-80d5-4cda-c542-8f9f935dcbe4"
      },
      "execution_count": null,
      "outputs": [
        {
          "output_type": "display_data",
          "data": {
            "text/plain": [
              "<Figure size 432x288 with 2 Axes>"
            ],
            "image/png": "[encoded data removed]"
          },
          "metadata": {
            "needs_background": "light"
          }
        }
      ]
    },
    {
      "cell_type": "code",
      "source": [
        "var_scores_all = [model[1] for model in models]\n",
        "final_model = models[var_scores_all.index(max(var_scores_all))]"
      ],
      "metadata": {
        "id": "j1BaRyRRwX35"
      },
      "execution_count": null,
      "outputs": []
    },
    {
      "cell_type": "code",
      "source": [
        "final_model"
      ],
      "metadata": {
        "colab": {
          "base_uri": "https://localhost:8080/"
        },
        "id": "XSREhhOZwbz4",
        "outputId": "b83f8114-3e26-4a51-8a64-eecdd374b0d8"
      },
      "execution_count": null,
      "outputs": [
        {
          "output_type": "execute_result",
          "data": {
            "text/plain": [
              "(LinearRegression(), 0.06520746540256772, 4300, 40)"
            ]
          },
          "metadata": {},
          "execution_count": 122
        }
      ]
    },
    {
      "cell_type": "markdown",
      "source": [
        "Hence our final/best model has the score 0.065 with all rows and random state=15"
      ],
      "metadata": {
        "id": "UrQeyMnBs4D7"
      }
    }
  ]
}